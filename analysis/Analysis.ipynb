{
 "cells": [
  {
   "cell_type": "code",
   "execution_count": 38,
   "metadata": {},
   "outputs": [],
   "source": [
    "# Imports\n",
    "\n",
    "import csv\n",
    "from dateutil import parser"
   ]
  },
  {
   "cell_type": "code",
   "execution_count": 39,
   "metadata": {},
   "outputs": [],
   "source": [
    "# Load a CSV, return a list\n",
    "\n",
    "def openCSV(filename):\n",
    "    with open(filename, 'rb') as f:\n",
    "        reader = csv.reader(f)\n",
    "        return list(reader)"
   ]
  },
  {
   "cell_type": "code",
   "execution_count": 40,
   "metadata": {},
   "outputs": [],
   "source": [
    "# Make a list that will hold info about a user\n",
    "\n",
    "def userInfo(uid, scheme):\n",
    "    list = {\n",
    "        \"uid\": uid,\n",
    "        \"scheme\": scheme,\n",
    "        \"password\": {\n",
    "            \"loginSuccess\": 0,\n",
    "            \"loginFailure\": 0,\n",
    "            \"loginSuccessTimes\": [],\n",
    "            \"loginFailureTimes\": []\n",
    "        }\n",
    "    }\n",
    "    return list"
   ]
  },
  {
   "cell_type": "code",
   "execution_count": 59,
   "metadata": {},
   "outputs": [],
   "source": [
    "# Write CSV from list\n",
    "\n",
    "def writeCSV(filename, thisList):\n",
    "    with open(filename, \"w\") as output:\n",
    "        writer = csv.writer(output, lineterminator='\\n')\n",
    "        writer.writerows(thisList)"
   ]
  },
  {
   "cell_type": "code",
   "execution_count": 53,
   "metadata": {},
   "outputs": [],
   "source": [
    "# Dict to list for exporting\n",
    "\n",
    "def dictToList(thisDict):\n",
    "    returnList = []\n",
    "    for key, value in thisDict.iteritems():\n",
    "        successTimesAvg = 0\n",
    "        failureTimesAvg = 0\n",
    "        \n",
    "        if (not len(value['password']['loginSuccessTimes']) == 0):\n",
    "            for success in value['password']['loginSuccessTimes']:\n",
    "                successTimesAvg += success\n",
    "            successTimesAvg /= len(value['password']['loginSuccessTimes'])\n",
    "        \n",
    "        if (not len(value['password']['loginFailureTimes']) == 0):\n",
    "            for failure in value['password']['loginFailureTimes']:\n",
    "                failureTimesAvg += failure\n",
    "            failureTimesAvg /= len(value['password']['loginFailureTimes'])\n",
    "        \n",
    "        thisRow = [\n",
    "            value['uid'],\n",
    "            value['scheme'],\n",
    "            value['password']['loginSuccess'] + value['password']['loginFailure'],\n",
    "            value['password']['loginSuccess'],\n",
    "            value['password']['loginFailure'],\n",
    "            successTimesAvg,\n",
    "            failureTimesAvg            \n",
    "        ]\n",
    "        \n",
    "        returnList.append(thisRow)\n",
    "    return returnList"
   ]
  },
  {
   "cell_type": "code",
   "execution_count": 43,
   "metadata": {},
   "outputs": [],
   "source": [
    "# Convert datetime to seconds\n",
    "\n",
    "def dateToSeconds(date):\n",
    "    return sum(x * int(t) for x, t in zip([3600, 60, 1], str(date).split(\":\"))) "
   ]
  },
  {
   "cell_type": "code",
   "execution_count": null,
   "metadata": {},
   "outputs": [],
   "source": [
    "# Parse a CSVs"
   ]
  },
  {
   "cell_type": "code",
   "execution_count": 61,
   "metadata": {},
   "outputs": [
    {
     "name": "stdout",
     "output_type": "stream",
     "text": [
      "['ast103', 'testtextrandom', 17, 16, 1, 12, 18]\n",
      "['ast104', 'testtextrandom', 26, 16, 10, 11, 14]\n",
      "['ast105', 'testtextrandom', 15, 12, 3, 7, 8]\n",
      "['ast107', 'testtextrandom', 21, 15, 6, 5, 6]\n",
      "['ast108', 'testtextrandom', 19, 19, 0, 4, 0]\n",
      "['ast111', 'testtextrandom', 20, 12, 8, 20, 9]\n",
      "['ast112', 'testtextrandom', 15, 15, 0, 7, 0]\n",
      "['ast114', 'testtextrandom', 22, 15, 7, 11, 9]\n",
      "['ast115', 'testtextrandom', 15, 15, 0, 11, 0]\n",
      "['ast116', 'testtextrandom', 15, 15, 0, 5, 0]\n",
      "['ast118', 'testtextrandom', 16, 15, 1, 7, 9]\n",
      "['ast125', 'testtextrandom', 18, 15, 3, 6, 6]\n",
      "['ast131', 'testtextrandom', 21, 15, 6, 12, 22]\n",
      "['ast133', 'testtextrandom', 9, 9, 0, 14, 0]\n",
      "['ast134', 'testtextrandom', 15, 15, 0, 7, 0]\n",
      "['ast135', 'testtextrandom', 4, 3, 1, 7, 5]\n",
      "['ast136', 'testtextrandom', 15, 15, 0, 10, 0]\n",
      "['ast138', 'testtextrandom', 16, 16, 0, 15, 0]\n"
     ]
    }
   ],
   "source": [
    "text21 = openCSV('data/Text21.csv')\n",
    "infoDict = {}\n",
    "\n",
    "for i, row in enumerate(text21):\n",
    "    if row[5] == \"login\":\n",
    "        # Create a new user if it is not already one\n",
    "        if row[1] not in infoDict:\n",
    "            infoDict[row[1]] = userInfo(row[1], row[3])\n",
    "        \n",
    "        # Calulate the time the user took to put in the password\n",
    "        timeDiff = dateToSeconds(parser.parse(row[0]) - parser.parse(text21[i - 2][0]))\n",
    "        \n",
    "        # Count success or failure and add time\n",
    "        if row[6] == \"success\":\n",
    "            infoDict[row[1]]['password'][\"loginSuccess\"] += 1\n",
    "            infoDict[row[1]]['password'][\"loginSuccessTimes\"].append(timeDiff)\n",
    "        elif row[6] == \"failure\":\n",
    "            infoDict[row[1]]['password'][\"loginFailure\"] += 1\n",
    "            infoDict[row[1]]['password'][\"loginFailureTimes\"].append(timeDiff)\n",
    "\n",
    "\n",
    "out = sorted(dictToList(infoDict))\n",
    "writeCSV(\"data/test.csv\", out)\n",
    "\n",
    "for i in out:\n",
    "    print i"
   ]
  }
 ],
 "metadata": {
  "kernelspec": {
   "display_name": "Python 2",
   "language": "python",
   "name": "python2"
  },
  "language_info": {
   "codemirror_mode": {
    "name": "ipython",
    "version": 2
   },
   "file_extension": ".py",
   "mimetype": "text/x-python",
   "name": "python",
   "nbconvert_exporter": "python",
   "pygments_lexer": "ipython2",
   "version": "2.7.13"
  }
 },
 "nbformat": 4,
 "nbformat_minor": 2
}
