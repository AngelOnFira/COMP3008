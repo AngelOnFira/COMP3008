{
 "cells": [
  {
   "cell_type": "code",
   "execution_count": 7,
   "metadata": {},
   "outputs": [],
   "source": [
    "# Imports\n",
    "\n",
    "import csv\n",
    "from dateutil import parser"
   ]
  },
  {
   "cell_type": "code",
   "execution_count": 6,
   "metadata": {},
   "outputs": [],
   "source": [
    "# Load a CSV, return a list\n",
    "\n",
    "def openCSV(filename):\n",
    "    with open(filename, 'rb') as f:\n",
    "        reader = csv.reader(f)\n",
    "        return list(reader)"
   ]
  },
  {
   "cell_type": "code",
   "execution_count": 9,
   "metadata": {},
   "outputs": [
    {
     "name": "stdout",
     "output_type": "stream",
     "text": [
      "{'ast103': datetime.datetime(2017, 7, 5, 14, 49, 36), 'ast114': datetime.datetime(2017, 7, 8, 11, 43, 29), 'ast116': datetime.datetime(2017, 7, 8, 11, 57, 20), 'ast107': datetime.datetime(2017, 7, 6, 16, 27, 22), 'ast111': datetime.datetime(2017, 7, 8, 11, 21, 4), 'ast105': datetime.datetime(2017, 7, 5, 15, 23, 37), 'ast104': datetime.datetime(2017, 7, 5, 14, 55, 5), 'ast136': datetime.datetime(2017, 7, 11, 17, 53, 32), 'ast108': datetime.datetime(2017, 7, 6, 16, 42, 5), 'ast118': datetime.datetime(2017, 7, 8, 12, 15, 17), 'ast138': datetime.datetime(2017, 7, 11, 21, 11, 36), 'ast115': datetime.datetime(2017, 7, 8, 11, 49, 3), 'ast133': datetime.datetime(2017, 7, 11, 15, 45, 45), 'ast131': datetime.datetime(2017, 7, 11, 15, 29, 39), 'ast125': datetime.datetime(2017, 7, 8, 14, 54, 31), 'ast112': datetime.datetime(2017, 7, 8, 11, 28, 15), 'ast134': datetime.datetime(2017, 7, 11, 16, 7, 28), 'ast135': datetime.datetime(2017, 7, 11, 16, 44, 50)}\n"
     ]
    }
   ],
   "source": [
    "text21 = openCSV('data/Text21.csv')\n",
    "infoDict = {}\n",
    "\n",
    "for row in text21:\n",
    "    if row[1] not in infoDict:\n",
    "        infoDict[row[1]] = parser.parse(row[0])\n",
    "print infoDict"
   ]
  }
 ],
 "metadata": {
  "kernelspec": {
   "display_name": "Python 2",
   "language": "python",
   "name": "python2"
  },
  "language_info": {
   "codemirror_mode": {
    "name": "ipython",
    "version": 2
   },
   "file_extension": ".py",
   "mimetype": "text/x-python",
   "name": "python",
   "nbconvert_exporter": "python",
   "pygments_lexer": "ipython2",
   "version": "2.7.12"
  }
 },
 "nbformat": 4,
 "nbformat_minor": 2
}
