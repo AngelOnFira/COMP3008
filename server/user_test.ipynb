{
 "cells": [
  {
   "cell_type": "code",
   "execution_count": 21,
   "metadata": {},
   "outputs": [],
   "source": [
    "# Imports\n",
    "\n",
    "from passwordGen import genPassword\n",
    "from IPython.display import clear_output\n",
    "import random, string\n",
    "import datetime\n",
    "from random import shuffle"
   ]
  },
  {
   "cell_type": "code",
   "execution_count": 18,
   "metadata": {},
   "outputs": [],
   "source": [
    "# Globals\n",
    "thisUser = getUID()"
   ]
  },
  {
   "cell_type": "code",
   "execution_count": 48,
   "metadata": {},
   "outputs": [],
   "source": [
    "def getUID():\n",
    "    return ''.join(random.choice(string.ascii_uppercase + string.ascii_lowercase + string.digits) for _ in range(4))"
   ]
  },
  {
   "cell_type": "code",
   "execution_count": 38,
   "metadata": {},
   "outputs": [],
   "source": [
    "def checkInput(realPassword, serviceName):\n",
    "    while (True):\n",
    "        print \"Please enter the \" + serviceName + \" password now.\"\n",
    "        password = raw_input()\n",
    "        if (password == realPassword):\n",
    "            logData(\"Passed Check Password: \" + realPassword)\n",
    "            logData\n",
    "            break\n",
    "        logData(\"Failed Check Password: \" + realPassword)"
   ]
  },
  {
   "cell_type": "code",
   "execution_count": 28,
   "metadata": {},
   "outputs": [],
   "source": [
    "def logData(data):\n",
    "    f = open(\"log.txt\", \"a+\")\n",
    "    f.write(str(datetime.datetime.now()) + \"|\" + str(thisUser) + \"|\" + data + \"\\n\")\n",
    "    f.close()"
   ]
  },
  {
   "cell_type": "code",
   "execution_count": 53,
   "metadata": {},
   "outputs": [
    {
     "name": "stdout",
     "output_type": "stream",
     "text": [
      "You have completed the test. Thank you for your participation.\n"
     ]
    }
   ],
   "source": [
    "questions = [genPassword(), genPassword(), genPassword()]\n",
    "thisUser = getUID()\n",
    "\n",
    "print \"This tool will generate new passwords for 3 sites.\\nFor each password, you will be asked to enter each\\none to verify that it is \"\n",
    "print \"\\n\"\n",
    "\n",
    "print \"This is your password for Hooli: \" + str(questions[0])\n",
    "print \"\"\n",
    "\n",
    "checkInput(questions[0], \"Hooli\")\n",
    "\n",
    "print \"\\n\\nThis is your password for Pied Piper: \" + str(questions[1])\n",
    "print \"\"\n",
    "checkInput(questions[1], \"Pied Piper\")\n",
    "\n",
    "print \"\\n\\nThis is your password for Myspace: \" + str(questions[2])\n",
    "print \"\"\n",
    "checkInput(questions[2], \"Myspace\")\n",
    "\n",
    "print \"\\n\\nNow you will be tested on each password. Be aware\\nthat the passwords may not be in the same order.\\nPress enter to continue\"\n",
    "wait = raw_input()\n",
    "\n",
    "clear_output()\n",
    "\n",
    "checkMemory = [\n",
    "    [\"Hooli\", questions[0]],\n",
    "    [\"Pied Piper\", questions[1]],\n",
    "    [\"Myspace\", questions[2]]]\n",
    "\n",
    "shuffle(checkMemory)\n",
    "\n",
    "for question in range(3):\n",
    "    for attempt in range(3):\n",
    "        print \"What was the password for \" + checkMemory[question][0] + \"? You have \" + str(3 - attempt) + \" attempts remaining.\"\n",
    "        logData(\"Start Memory Password: \" + checkMemory[question][1])\n",
    "        passwordAttempt = raw_input()\n",
    "        if (passwordAttempt == checkMemory[question][1]):\n",
    "            print \"\\nThat was the correct password.\"\n",
    "            logData(\"Passed Memory Password: T'\" + checkMemory[question][1] + \"' == F'\" + passwordAttempt + \"'\")\n",
    "            break\n",
    "        logData(\"Failed Memory Password: T'\" + checkMemory[question][1] + \"' == F'\" + passwordAttempt + \"'\")\n",
    "        print \"\\nThat password was not correct. Try again.\"\n",
    "        print \"Press enter to continue\"\n",
    "        wait = raw_input()\n",
    "        clear_output()\n",
    "    print \"Press enter to continue\"\n",
    "    wait = raw_input()\n",
    "    clear_output()\n",
    "logData(\"Completed Test\")\n",
    "print \"You have completed the test. Thank you for your participation.\""
   ]
  }
 ],
 "metadata": {
  "kernelspec": {
   "display_name": "Python 2",
   "language": "python",
   "name": "python2"
  },
  "language_info": {
   "codemirror_mode": {
    "name": "ipython",
    "version": 2
   },
   "file_extension": ".py",
   "mimetype": "text/x-python",
   "name": "python",
   "nbconvert_exporter": "python",
   "pygments_lexer": "ipython2",
   "version": "2.7.13"
  }
 },
 "nbformat": 4,
 "nbformat_minor": 2
}
